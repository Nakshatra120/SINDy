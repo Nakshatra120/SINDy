{
 "cells": [
  {
   "cell_type": "code",
   "execution_count": 1,
   "id": "6ea5a86a",
   "metadata": {},
   "outputs": [],
   "source": [
    "import numpy as np\n",
    "from numpy.linalg import lstsq\n",
    "from itertools import combinations_with_replacement\n",
    "from scipy.integrate import solve_ivp\n",
    "from scipy.signal import savgol_filter\n",
    "import matplotlib.pyplot as plt\n"
   ]
  },
  {
   "cell_type": "code",
   "execution_count": 3,
   "id": "410ae9ab",
   "metadata": {},
   "outputs": [],
   "source": [
    "def lorenz(t, x, sigma=10.0, rho=28.0, beta=8/3):\n",
    "    X, Y, Z = x\n",
    "    return [sigma*(Y - X), X*(rho - Z) - Y, X*Y - beta*Z]\n",
    "\n",
    "# simulate\n",
    "dt = 0.002\n",
    "T  = 20.0\n",
    "t_span = (0, T)\n",
    "t_eval = np.arange(0, T, dt)\n",
    "x0 = [ -8.0, 8.0, 27.0 ]   # initial condition\n",
    "\n",
    "sol = solve_ivp(lorenz, t_span, x0, t_eval=t_eval, rtol=1e-10, atol=1e-12)\n",
    "t = sol.t\n",
    "X = sol.y.T                    # shape (N, 3), columns = [x, y, z]\n",
    "\n",
    "# We’ll use this only to create data; pretend that we don’t know the equations afterward.\n"
   ]
  },
  {
   "cell_type": "code",
   "execution_count": 4,
   "id": "9b5aa0cc",
   "metadata": {},
   "outputs": [],
   "source": [
    "# adding some noise to add robustness\n",
    "\n",
    "noise_level = 0.0            # e.g., 0.01 for 1% noise\n",
    "X_noisy = X + noise_level*np.std(X, axis=0)*np.random.randn(*X.shape)\n"
   ]
  },
  {
   "cell_type": "code",
   "execution_count": 5,
   "id": "881b276b",
   "metadata": {},
   "outputs": [],
   "source": [
    "X_data = X_noisy\n",
    "# Use X_data = X_noisy if you add noise; otherwise X_data = X\n"
   ]
  },
  {
   "cell_type": "markdown",
   "id": "8623344a",
   "metadata": {},
   "source": [
    "## Estimating now the x derivatives $\\dot{x}$."
   ]
  },
  {
   "cell_type": "markdown",
   "id": "074764bf",
   "metadata": {},
   "source": [
    "SINDy assumes you have $\\dot{x}$(t). With noise-free data you can finite-difference; with realistic data, a Savitzky–Golay (SG) filter is much better."
   ]
  },
  {
   "cell_type": "code",
   "execution_count": 6,
   "id": "3b573d56",
   "metadata": {},
   "outputs": [],
   "source": [
    "def estimate_derivative_savgol(X, dt, window_frac=0.05, polyorder=3):\n",
    "    N = len(X)\n",
    "    win = max(5, int(window_frac*N) | 1)  # odd, at least 5\n",
    "    win = min(win, N-(1-N%2))             # ensure <= N and odd\n",
    "    dXdt = savgol_filter(X, window_length=win, polyorder=polyorder,\n",
    "                         deriv=1, delta=dt, axis=0, mode='interp')\n",
    "    return dXdt\n",
    "\n",
    "dXdt = estimate_derivative_savgol(X_data, dt)\n"
   ]
  },
  {
   "cell_type": "markdown",
   "id": "06bb4193",
   "metadata": {},
   "source": [
    "$$ \\text{Build a polynomial library } \\Theta(X) $$"
   ]
  },
  {
   "cell_type": "code",
   "execution_count": 7,
   "id": "7a178570",
   "metadata": {},
   "outputs": [
    {
     "data": {
      "text/plain": [
       "((10000, 10),\n",
       " ['1', 'x1', 'x2', 'x3', 'x1^2', 'x1*x2', 'x1*x3', 'x2^2', 'x2*x3', 'x3^2'])"
      ]
     },
     "execution_count": 7,
     "metadata": {},
     "output_type": "execute_result"
    }
   ],
   "source": [
    "# building a polynomial library\n",
    "## Include constant, linear, and quadratic terms (sufficient for Lorenz).\n",
    "\n",
    "def monomial_exponents(d, degree):\n",
    "    # all exponent tuples e with sum(e) in 1..degree\n",
    "    exps = []\n",
    "    for deg in range(1, degree+1):\n",
    "        for idxs in combinations_with_replacement(range(d), deg):\n",
    "            e = np.zeros(d, dtype=int)\n",
    "            for k in idxs:\n",
    "                e[k] += 1\n",
    "            exps.append(tuple(e))\n",
    "    return exps\n",
    "\n",
    "def build_library(X, degree=2, include_bias=True, names=None):\n",
    "    \"\"\"\n",
    "    X: (N,d) data matrix\n",
    "    returns Theta: (N,p), feature_names: list[str], exponents: list[tuple]\n",
    "    \"\"\"\n",
    "    N, d = X.shape\n",
    "    features = []\n",
    "    names_out = []\n",
    "    exps = []\n",
    "\n",
    "    if include_bias:\n",
    "        features.append(np.ones((N,1)))\n",
    "        names_out.append(\"1\")\n",
    "        exps.append(tuple([0]*d))\n",
    "\n",
    "    # linear terms\n",
    "    for j in range(d):\n",
    "        features.append(X[:, [j]])\n",
    "        names_out.append(f\"x{j+1}\")\n",
    "        e = [0]*d; e[j]=1\n",
    "        exps.append(tuple(e))\n",
    "\n",
    "    # higher-order terms\n",
    "    for e in monomial_exponents(d, degree):\n",
    "        if sum(e) == 1:          # already added linear\n",
    "            continue\n",
    "        term = np.prod([X[:, [j]]**e[j] for j in range(d)], axis=0)\n",
    "        features.append(term)\n",
    "        # build a readable name\n",
    "        name = []\n",
    "        for j, p in enumerate(e):\n",
    "            if p>0:\n",
    "                name.append(f\"x{j+1}^{p}\" if p>1 else f\"x{j+1}\")\n",
    "        names_out.append(\"\".join(name).replace(\"x1x2\",\"x1*x2\").replace(\"x1x3\",\"x1*x3\").replace(\"x2x3\",\"x2*x3\"))\n",
    "        exps.append(e)\n",
    "\n",
    "    Theta = np.hstack(features)\n",
    "    return Theta, names_out, exps\n",
    "\n",
    "Theta_raw, feat_names, exps = build_library(X_data, degree=2, include_bias=True)\n",
    "Theta_raw.shape, feat_names\n"
   ]
  },
  {
   "cell_type": "markdown",
   "id": "c1c041c8",
   "metadata": {},
   "source": [
    "$$ \\text{Column scaling (important for thresholding)} $$"
   ]
  },
  {
   "cell_type": "code",
   "execution_count": 10,
   "id": "630dfb6b",
   "metadata": {},
   "outputs": [],
   "source": [
    "# Scale each column to unit 2-norm so a single threshold λ is meaningful\n",
    "def scale_columns(A):\n",
    "    s = np.linalg.norm(A, axis=0)\n",
    "    s[s==0] = 1.0\n",
    "    return A / s, s\n",
    "\n",
    "Theta, col_scales = scale_columns(Theta_raw)\n",
    "\n",
    "# When you recover coefficients, you’ll unscale by dividing by col_scales"
   ]
  },
  {
   "cell_type": "markdown",
   "id": "c0813956",
   "metadata": {},
   "source": [
    "$$ \\text{Sparse regression (STLSQ)} $$"
   ]
  },
  {
   "cell_type": "code",
   "execution_count": 13,
   "id": "e0afeff7",
   "metadata": {},
   "outputs": [],
   "source": [
    "# Sequentially threshold small coefficients to zero, then refit on the remaining terms. \n",
    "# Do this per state component.def stlsq(Theta, dXdt, lam=0.1, max_iter=20, tol=1e-8):\n",
    "\n",
    "def stlsq(Theta, dXdt, lam=0.1, max_iter=20, tol=1e-8):\n",
    "    \"\"\"\n",
    "    Theta: (N,p), dXdt: (N,d)\n",
    "    returns Xi: (p,d) sparse coefficient matrix\n",
    "    \"\"\"\n",
    "    N, p = Theta.shape\n",
    "    _, d = dXdt.shape\n",
    "    Xi, _, _, _ = lstsq(Theta, dXdt, rcond=None)\n",
    "\n",
    "    for _ in range(max_iter):\n",
    "        Xi_old = Xi.copy()\n",
    "        for k in range(d):\n",
    "            small = np.abs(Xi[:, k]) < lam\n",
    "            Xi[small, k] = 0.0\n",
    "            big_idx = ~small\n",
    "            if np.any(big_idx):\n",
    "                Xi[big_idx, k], _, _, _ = lstsq(Theta[:, big_idx], dXdt[:, k], rcond=None)\n",
    "        if np.max(np.abs(Xi - Xi_old)) < tol:\n",
    "            break\n",
    "    return Xi\n",
    "\n",
    "lam = 0.1  # tune this\n",
    "Xi_scaled = stlsq(Theta, dXdt, lam=lam, max_iter=25)\n",
    "# unscale coefficients back to the raw (un-normalized) library\n",
    "Xi = Xi_scaled / col_scales[:, None]\n",
    "\n"
   ]
  },
  {
   "cell_type": "code",
   "execution_count": 14,
   "id": "8831e57e",
   "metadata": {},
   "outputs": [
    {
     "name": "stdout",
     "output_type": "stream",
     "text": [
      "dx/dt = -5.56505·1 -16.97208·x1 +13.63118·x2 +1.01893·x3 +0.19516·x1^2 -0.19378·x1*x2 +0.36958·x1*x3 +0.04524·x2^2 -0.28345·x2*x3 -0.03504·x3^2\n",
      "dy/dt = -0.42397·1 -7.65496·x1 +7.53936·x2 +0.54072·x3 +0.15682·x1^2 -0.13100·x1*x2 +0.07683·x1*x3 +0.01465·x2^2 -0.12469·x2*x3 -0.02413·x3^2\n",
      "dz/dt = +49.59975·1 -2.17455·x1 +1.51900·x2 -5.17219·x3 +0.88247·x1^2 -0.88572·x1*x2 +0.05685·x1*x3 +0.52385·x2^2 -0.04225·x2*x3 +0.04936·x3^2\n"
     ]
    }
   ],
   "source": [
    "def print_model(Xi, feat_names, var_names=(\"x\",\"y\",\"z\"), tol=1e-10):\n",
    "    p, d = Xi.shape\n",
    "    for k, vk in enumerate(var_names, start=1):\n",
    "        terms = []\n",
    "        for j in range(p):\n",
    "            c = Xi[j, k-1]\n",
    "            if abs(c) > tol:\n",
    "                terms.append(f\"{c:+.5f}·{feat_names[j]}\")\n",
    "        rhs = \" \".join(terms) if terms else \"0\"\n",
    "        print(f\"d{vk}/dt = {rhs}\")\n",
    "\n",
    "print_model(Xi, feat_names, var_names=(\"x\",\"y\",\"z\"))\n"
   ]
  },
  {
   "cell_type": "code",
   "execution_count": 15,
   "id": "7bf82903",
   "metadata": {},
   "outputs": [
    {
     "name": "stdout",
     "output_type": "stream",
     "text": [
      "sigma ≈ 13.6312, 16.9721 | rho ≈ -7.6550 | beta ≈ 5.1722\n",
      "coeff(xz in dy) ≈ -0.0768 | coeff(xy in dz) ≈ -0.8857\n"
     ]
    }
   ],
   "source": [
    "def coeff(feat, eq):\n",
    "    j = feat_names.index(feat)\n",
    "    return Xi[j, eq]\n",
    "\n",
    "sigma_hat =  coeff(\"x2\", 0)    # y in dx/dt\n",
    "sigma_hat2 = -coeff(\"x1\", 0)   # -x in dx/dt (should match sigma)\n",
    "rho_hat   =  coeff(\"x1\", 1)    # x in dy/dt\n",
    "beta_hat  = -coeff(\"x3\", 2)    # -z in dz/dt\n",
    "xz_hat    = -coeff(\"x1*x3\",1)  # -xz in dy/dt (should be -1)\n",
    "xy_hat    =  coeff(\"x1*x2\",2)  #  xy in dz/dt (should be +1)\n",
    "\n",
    "print(f\"sigma ≈ {sigma_hat:.4f}, {sigma_hat2:.4f} | rho ≈ {rho_hat:.4f} | beta ≈ {beta_hat:.4f}\")\n",
    "print(f\"coeff(xz in dy) ≈ {xz_hat:.4f} | coeff(xy in dz) ≈ {xy_hat:.4f}\")\n"
   ]
  },
  {
   "cell_type": "code",
   "execution_count": null,
   "id": "dca175b7",
   "metadata": {},
   "outputs": [],
   "source": []
  },
  {
   "cell_type": "markdown",
   "id": "a09c2a2f",
   "metadata": {},
   "source": [
    "$$ \\text{sanity check against reference library} $$"
   ]
  },
  {
   "cell_type": "code",
   "execution_count": null,
   "id": "4ee90a95",
   "metadata": {},
   "outputs": [
    {
     "name": "stdout",
     "output_type": "stream",
     "text": [
      "Collecting pysindy\n",
      "  Downloading pysindy-2.0.0-py3-none-any.whl.metadata (23 kB)\n",
      "Requirement already satisfied: scikit-learn!=1.5.0,!=1.6.0,!=1.7.1,>=1.1 in /opt/anaconda3/lib/python3.12/site-packages (from pysindy) (1.5.1)\n",
      "Collecting numpy>=2.0 (from pysindy)\n",
      "  Downloading numpy-2.3.2-cp312-cp312-macosx_14_0_arm64.whl.metadata (62 kB)\n",
      "Collecting derivative>=0.6.2 (from pysindy)\n",
      "  Downloading derivative-0.6.3-py3-none-any.whl.metadata (6.6 kB)\n",
      "Requirement already satisfied: scipy in /opt/anaconda3/lib/python3.12/site-packages (from pysindy) (1.13.1)\n",
      "Requirement already satisfied: typing_extensions in /opt/anaconda3/lib/python3.12/site-packages (from pysindy) (4.11.0)\n",
      "Collecting importlib-metadata>=7.1.0 (from derivative>=0.6.2->pysindy)\n",
      "  Downloading importlib_metadata-8.7.0-py3-none-any.whl.metadata (4.8 kB)\n",
      "Requirement already satisfied: joblib>=1.2.0 in /opt/anaconda3/lib/python3.12/site-packages (from scikit-learn!=1.5.0,!=1.6.0,!=1.7.1,>=1.1->pysindy) (1.4.2)\n",
      "Requirement already satisfied: threadpoolctl>=3.1.0 in /opt/anaconda3/lib/python3.12/site-packages (from scikit-learn!=1.5.0,!=1.6.0,!=1.7.1,>=1.1->pysindy) (3.5.0)\n",
      "Collecting numpy>=2.0 (from pysindy)\n",
      "  Downloading numpy-2.2.6-cp312-cp312-macosx_14_0_arm64.whl.metadata (62 kB)\n",
      "Collecting zipp>=3.20 (from importlib-metadata>=7.1.0->derivative>=0.6.2->pysindy)\n",
      "  Downloading zipp-3.23.0-py3-none-any.whl.metadata (3.6 kB)\n",
      "Downloading pysindy-2.0.0-py3-none-any.whl (127 kB)\n",
      "Downloading derivative-0.6.3-py3-none-any.whl (14 kB)\n",
      "Downloading numpy-2.2.6-cp312-cp312-macosx_14_0_arm64.whl (5.1 MB)\n",
      "\u001b[2K   \u001b[90m━━━━━━━━━━━━━━━━━━━━━━━━━━━━━━━━━━━━━━━━\u001b[0m \u001b[32m5.1/5.1 MB\u001b[0m \u001b[31m8.8 MB/s\u001b[0m eta \u001b[36m0:00:00\u001b[0mta \u001b[36m0:00:01\u001b[0m\n",
      "\u001b[?25hDownloading importlib_metadata-8.7.0-py3-none-any.whl (27 kB)\n",
      "Downloading zipp-3.23.0-py3-none-any.whl (10 kB)\n",
      "Installing collected packages: zipp, numpy, importlib-metadata, derivative, pysindy\n",
      "  Attempting uninstall: zipp\n",
      "    Found existing installation: zipp 3.17.0\n",
      "    Uninstalling zipp-3.17.0:\n",
      "      Successfully uninstalled zipp-3.17.0\n",
      "  Attempting uninstall: numpy\n",
      "    Found existing installation: numpy 1.26.4\n",
      "    Uninstalling numpy-1.26.4:\n",
      "      Successfully uninstalled numpy-1.26.4\n",
      "  Attempting uninstall: importlib-metadata\n",
      "    Found existing installation: importlib-metadata 7.0.1\n",
      "    Uninstalling importlib-metadata-7.0.1:\n",
      "      Successfully uninstalled importlib-metadata-7.0.1\n",
      "\u001b[31mERROR: pip's dependency resolver does not currently take into account all the packages that are installed. This behaviour is the source of the following dependency conflicts.\n",
      "gensim 4.3.3 requires numpy<2.0,>=1.18.5, but you have numpy 2.2.6 which is incompatible.\n",
      "contourpy 1.2.0 requires numpy<2.0,>=1.20, but you have numpy 2.2.6 which is incompatible.\n",
      "numba 0.60.0 requires numpy<2.1,>=1.22, but you have numpy 2.2.6 which is incompatible.\u001b[0m\u001b[31m\n",
      "\u001b[0mSuccessfully installed derivative-0.6.3 importlib-metadata-8.7.0 numpy-2.2.6 pysindy-2.0.0 zipp-3.23.0\n"
     ]
    },
    {
     "ename": "ValueError",
     "evalue": "solve: Input operand 1 does not have enough dimensions (has 1, gufunc core with signature (m,m),(m,n)->(m,n) requires 2)",
     "output_type": "error",
     "traceback": [
      "\u001b[0;31m---------------------------------------------------------------------------\u001b[0m",
      "\u001b[0;31mValueError\u001b[0m                                Traceback (most recent call last)",
      "Cell \u001b[0;32mIn[17], line 6\u001b[0m\n\u001b[1;32m      4\u001b[0m feat \u001b[38;5;241m=\u001b[39m ps\u001b[38;5;241m.\u001b[39mPolynomialLibrary(degree\u001b[38;5;241m=\u001b[39m\u001b[38;5;241m2\u001b[39m, include_interaction\u001b[38;5;241m=\u001b[39m\u001b[38;5;28;01mTrue\u001b[39;00m, include_bias\u001b[38;5;241m=\u001b[39m\u001b[38;5;28;01mTrue\u001b[39;00m)\n\u001b[1;32m      5\u001b[0m model \u001b[38;5;241m=\u001b[39m ps\u001b[38;5;241m.\u001b[39mSINDy(optimizer\u001b[38;5;241m=\u001b[39mopt, feature_library\u001b[38;5;241m=\u001b[39mfeat)\n\u001b[0;32m----> 6\u001b[0m model\u001b[38;5;241m.\u001b[39mfit(X_data, t\u001b[38;5;241m=\u001b[39mdt)\n\u001b[1;32m      7\u001b[0m model\u001b[38;5;241m.\u001b[39mprint()\n",
      "File \u001b[0;32m/opt/anaconda3/lib/python3.12/site-packages/pysindy/pysindy.py:367\u001b[0m, in \u001b[0;36mSINDy.fit\u001b[0;34m(self, x, t, x_dot, u, feature_names)\u001b[0m\n\u001b[1;32m    361\u001b[0m     u \u001b[38;5;241m=\u001b[39m validate_control_variables(\n\u001b[1;32m    362\u001b[0m         x,\n\u001b[1;32m    363\u001b[0m         u,\n\u001b[1;32m    364\u001b[0m         trim_last_point\u001b[38;5;241m=\u001b[39m(\u001b[38;5;28mself\u001b[39m\u001b[38;5;241m.\u001b[39mdiscrete_time \u001b[38;5;129;01mand\u001b[39;00m x_dot \u001b[38;5;129;01mis\u001b[39;00m \u001b[38;5;28;01mNone\u001b[39;00m),\n\u001b[1;32m    365\u001b[0m     )\n\u001b[1;32m    366\u001b[0m     \u001b[38;5;28mself\u001b[39m\u001b[38;5;241m.\u001b[39mn_control_features_ \u001b[38;5;241m=\u001b[39m u[\u001b[38;5;241m0\u001b[39m]\u001b[38;5;241m.\u001b[39mshape[u[\u001b[38;5;241m0\u001b[39m]\u001b[38;5;241m.\u001b[39max_coord]\n\u001b[0;32m--> 367\u001b[0m x, x_dot \u001b[38;5;241m=\u001b[39m \u001b[38;5;28mself\u001b[39m\u001b[38;5;241m.\u001b[39m_process_trajectories(x, t, x_dot)\n\u001b[1;32m    369\u001b[0m \u001b[38;5;66;03m# Append control variables\u001b[39;00m\n\u001b[1;32m    370\u001b[0m \u001b[38;5;28;01mif\u001b[39;00m u \u001b[38;5;129;01mis\u001b[39;00m \u001b[38;5;129;01mnot\u001b[39;00m \u001b[38;5;28;01mNone\u001b[39;00m:\n",
      "File \u001b[0;32m/opt/anaconda3/lib/python3.12/site-packages/pysindy/pysindy.py:573\u001b[0m, in \u001b[0;36mSINDy._process_trajectories\u001b[0;34m(self, x, t, x_dot)\u001b[0m\n\u001b[1;32m    569\u001b[0m         x \u001b[38;5;241m=\u001b[39m [xi[:\u001b[38;5;241m-\u001b[39m\u001b[38;5;241m1\u001b[39m] \u001b[38;5;28;01mfor\u001b[39;00m xi \u001b[38;5;129;01min\u001b[39;00m x]\n\u001b[1;32m    570\u001b[0m     \u001b[38;5;28;01melse\u001b[39;00m:\n\u001b[1;32m    571\u001b[0m         x, x_dot \u001b[38;5;241m=\u001b[39m \u001b[38;5;28mzip\u001b[39m(\n\u001b[1;32m    572\u001b[0m             \u001b[38;5;241m*\u001b[39m[\n\u001b[0;32m--> 573\u001b[0m                 \u001b[38;5;28mself\u001b[39m\u001b[38;5;241m.\u001b[39mfeature_library\u001b[38;5;241m.\u001b[39mcalc_trajectory(\n\u001b[1;32m    574\u001b[0m                     \u001b[38;5;28mself\u001b[39m\u001b[38;5;241m.\u001b[39mdifferentiation_method, xi, ti\n\u001b[1;32m    575\u001b[0m                 )\n\u001b[1;32m    576\u001b[0m                 \u001b[38;5;28;01mfor\u001b[39;00m xi, ti \u001b[38;5;129;01min\u001b[39;00m _zip_like_sequence(x, t)\n\u001b[1;32m    577\u001b[0m             ]\n\u001b[1;32m    578\u001b[0m         )\n\u001b[1;32m    579\u001b[0m \u001b[38;5;28;01mreturn\u001b[39;00m x, x_dot\n",
      "File \u001b[0;32m/opt/anaconda3/lib/python3.12/site-packages/pysindy/feature_library/base.py:70\u001b[0m, in \u001b[0;36mBaseFeatureLibrary.calc_trajectory\u001b[0;34m(self, diff_method, x, t)\u001b[0m\n\u001b[1;32m     69\u001b[0m \u001b[38;5;28;01mdef\u001b[39;00m \u001b[38;5;21mcalc_trajectory\u001b[39m(\u001b[38;5;28mself\u001b[39m, diff_method, x, t):\n\u001b[0;32m---> 70\u001b[0m     x_dot \u001b[38;5;241m=\u001b[39m diff_method(x, t\u001b[38;5;241m=\u001b[39mt)\n\u001b[1;32m     71\u001b[0m     x \u001b[38;5;241m=\u001b[39m AxesArray(diff_method\u001b[38;5;241m.\u001b[39msmoothed_x_, x\u001b[38;5;241m.\u001b[39maxes)\n\u001b[1;32m     72\u001b[0m     \u001b[38;5;28;01mreturn\u001b[39;00m x, AxesArray(x_dot, x\u001b[38;5;241m.\u001b[39maxes)\n",
      "File \u001b[0;32m/opt/anaconda3/lib/python3.12/site-packages/pysindy/differentiation/base.py:53\u001b[0m, in \u001b[0;36mBaseDifferentiation.__call__\u001b[0;34m(self, x, t)\u001b[0m\n\u001b[1;32m     52\u001b[0m \u001b[38;5;28;01mdef\u001b[39;00m \u001b[38;5;21m__call__\u001b[39m(\u001b[38;5;28mself\u001b[39m, x, t\u001b[38;5;241m=\u001b[39m\u001b[38;5;241m1\u001b[39m):\n\u001b[0;32m---> 53\u001b[0m     \u001b[38;5;28;01mreturn\u001b[39;00m \u001b[38;5;28mself\u001b[39m\u001b[38;5;241m.\u001b[39m_differentiate(x, t)\n",
      "File \u001b[0;32m/opt/anaconda3/lib/python3.12/site-packages/pysindy/differentiation/finite_difference.py:284\u001b[0m, in \u001b[0;36mFiniteDifference._differentiate\u001b[0;34m(self, x, t)\u001b[0m\n\u001b[1;32m    281\u001b[0m \u001b[38;5;28;01mif\u001b[39;00m \u001b[38;5;129;01mnot\u001b[39;00m \u001b[38;5;28mself\u001b[39m\u001b[38;5;241m.\u001b[39mdrop_endpoints:\n\u001b[1;32m    282\u001b[0m     \u001b[38;5;66;03m# Forward differences on boundary\u001b[39;00m\n\u001b[1;32m    283\u001b[0m     \u001b[38;5;28;01mif\u001b[39;00m \u001b[38;5;129;01mnot\u001b[39;00m \u001b[38;5;28mself\u001b[39m\u001b[38;5;241m.\u001b[39mperiodic:\n\u001b[0;32m--> 284\u001b[0m         coeffs \u001b[38;5;241m=\u001b[39m \u001b[38;5;28mself\u001b[39m\u001b[38;5;241m.\u001b[39m_coefficients_boundary_forward(t)\n\u001b[1;32m    285\u001b[0m         boundary \u001b[38;5;241m=\u001b[39m \u001b[38;5;28mself\u001b[39m\u001b[38;5;241m.\u001b[39m_accumulate(coeffs, x)\n\u001b[1;32m    287\u001b[0m         \u001b[38;5;28;01mif\u001b[39;00m \u001b[38;5;28mself\u001b[39m\u001b[38;5;241m.\u001b[39morder \u001b[38;5;241m%\u001b[39m \u001b[38;5;241m2\u001b[39m \u001b[38;5;241m==\u001b[39m \u001b[38;5;241m0\u001b[39m:\n",
      "File \u001b[0;32m/opt/anaconda3/lib/python3.12/site-packages/pysindy/differentiation/finite_difference.py:154\u001b[0m, in \u001b[0;36mFiniteDifference._coefficients_boundary_forward\u001b[0;34m(self, t)\u001b[0m\n\u001b[1;32m    152\u001b[0m b \u001b[38;5;241m=\u001b[39m np\u001b[38;5;241m.\u001b[39mzeros((\u001b[38;5;28mself\u001b[39m\u001b[38;5;241m.\u001b[39mn_stencil_forward,))\n\u001b[1;32m    153\u001b[0m b[\u001b[38;5;28mself\u001b[39m\u001b[38;5;241m.\u001b[39md] \u001b[38;5;241m=\u001b[39m factorial(\u001b[38;5;28mself\u001b[39m\u001b[38;5;241m.\u001b[39md)\n\u001b[0;32m--> 154\u001b[0m \u001b[38;5;28;01mreturn\u001b[39;00m np\u001b[38;5;241m.\u001b[39mlinalg\u001b[38;5;241m.\u001b[39msolve(matrices, b)\n",
      "File \u001b[0;32m/opt/anaconda3/lib/python3.12/site-packages/numpy/linalg/linalg.py:409\u001b[0m, in \u001b[0;36msolve\u001b[0;34m(a, b)\u001b[0m\n\u001b[1;32m      0\u001b[0m <Error retrieving source code with stack_data see ipython/ipython#13598>\n",
      "\u001b[0;31mValueError\u001b[0m: solve: Input operand 1 does not have enough dimensions (has 1, gufunc core with signature (m,m),(m,n)->(m,n) requires 2)"
     ]
    }
   ],
   "source": [
    "#!pip install pysindy\n",
    "import pysindy as ps\n",
    "opt = ps.STLSQ(threshold=0.1)\n",
    "feat = ps.PolynomialLibrary(degree=2, include_interaction=True, include_bias=True)\n",
    "model = ps.SINDy(optimizer=opt, feature_library=feat)\n",
    "model.fit(X_data, t=dt)\n",
    "model.print()\n"
   ]
  },
  {
   "cell_type": "code",
   "execution_count": null,
   "id": "a0f9f9ce",
   "metadata": {},
   "outputs": [],
   "source": []
  }
 ],
 "metadata": {
  "kernelspec": {
   "display_name": "base",
   "language": "python",
   "name": "python3"
  },
  "language_info": {
   "codemirror_mode": {
    "name": "ipython",
    "version": 3
   },
   "file_extension": ".py",
   "mimetype": "text/x-python",
   "name": "python",
   "nbconvert_exporter": "python",
   "pygments_lexer": "ipython3",
   "version": "3.12.2"
  }
 },
 "nbformat": 4,
 "nbformat_minor": 5
}
